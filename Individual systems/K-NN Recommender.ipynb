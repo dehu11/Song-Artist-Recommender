{
 "cells": [
  {
   "cell_type": "code",
   "execution_count": 2,
   "metadata": {
    "collapsed": true
   },
   "outputs": [],
   "source": [
    "import numpy as np\n",
    "import pandas as pd\n",
    "from sklearn.neighbors import NearestNeighbors\n",
    "from sklearn.decomposition import PCA\n",
    "#from scipy.sparse import csr_matrix\n",
    "#from sklearn.model_selection import train_test_split"
   ]
  },
  {
   "cell_type": "markdown",
   "metadata": {},
   "source": [
    "## Get Data"
   ]
  },
  {
   "cell_type": "code",
   "execution_count": 3,
   "metadata": {
    "collapsed": true
   },
   "outputs": [],
   "source": [
    "data = pd.DataFrame.from_csv('song_data.csv', sep=',', index_col=None)\n",
    "#matrix_sparse = csr_matrix(matrix.values)\n",
    "#print(len(data['user_id'].unique()))\n",
    "#print(len(data['song'].unique()))\n",
    "#print(len(data['artist'].unique()))\n",
    "#print(len(data))"
   ]
  },
  {
   "cell_type": "markdown",
   "metadata": {},
   "source": [
    "# K-Nearest Neighbors"
   ]
  },
  {
   "cell_type": "markdown",
   "metadata": {},
   "source": [
    "## Song Recommender"
   ]
  },
  {
   "cell_type": "code",
   "execution_count": 5,
   "metadata": {},
   "outputs": [],
   "source": [
    "song_matrix = pd.pivot_table(data, index = 'song', columns = 'user_id', values = 'listen_count', fill_value = 0)\n",
    "#print(\"'Stronger - Kanye West' played\", song_matrix.at[\"Stronger - Kanye West\", \"b80344d063b5ccb3212f76538f3d9e43d87dca9e\"],\"time(s) by user b80344d063b5ccb3212f76538f3d9e43d87dca9e\")\n",
    "#print(\"Total plays of 'Stronger - Kanye West':\", song_matrix.loc[\"Stronger - Kanye West\"].sum())"
   ]
  },
  {
   "cell_type": "code",
   "execution_count": 1,
   "metadata": {},
   "outputs": [
    {
     "ename": "NameError",
     "evalue": "name 'song_matrix' is not defined",
     "output_type": "error",
     "traceback": [
      "\u001b[1;31m---------------------------------------------------------------------------\u001b[0m",
      "\u001b[1;31mNameError\u001b[0m                                 Traceback (most recent call last)",
      "\u001b[1;32m<ipython-input-1-d5e3cc7484ce>\u001b[0m in \u001b[0;36m<module>\u001b[1;34m()\u001b[0m\n\u001b[1;32m----> 1\u001b[1;33m \u001b[0mprint\u001b[0m\u001b[1;33m(\u001b[0m\u001b[1;34m\"Total plays of\"\u001b[0m\u001b[1;33m,\u001b[0m \u001b[0msong_matrix\u001b[0m\u001b[1;33m.\u001b[0m\u001b[0mloc\u001b[0m\u001b[1;33m[\u001b[0m\u001b[1;33m:\u001b[0m\u001b[1;33m]\u001b[0m\u001b[1;33m.\u001b[0m\u001b[0msum\u001b[0m\u001b[1;33m(\u001b[0m\u001b[1;33m)\u001b[0m\u001b[1;33m)\u001b[0m\u001b[1;33m\u001b[0m\u001b[0m\n\u001b[0m",
      "\u001b[1;31mNameError\u001b[0m: name 'song_matrix' is not defined"
     ]
    }
   ],
   "source": [
    "print(\"Total plays of\", song_matrix.loc[:].sum())"
   ]
  },
  {
   "cell_type": "code",
   "execution_count": 5,
   "metadata": {
    "collapsed": true
   },
   "outputs": [],
   "source": [
    "#print(song_matrix.sum(axis = 1).sort_values(ascending = False))\n",
    "#print(song_matrix.sum(axis = 1).describe())\n",
    "#song_matrix"
   ]
  },
  {
   "cell_type": "code",
   "execution_count": 6,
   "metadata": {},
   "outputs": [
    {
     "data": {
      "text/plain": [
       "NearestNeighbors(algorithm='brute', leaf_size=30, metric='cosine',\n",
       "         metric_params=None, n_jobs=1, n_neighbors=5, p=2, radius=1.0)"
      ]
     },
     "execution_count": 6,
     "metadata": {},
     "output_type": "execute_result"
    }
   ],
   "source": [
    "song_knn = NearestNeighbors(metric='cosine', algorithm='brute')\n",
    "song_knn.fit(song_matrix)\n",
    "#ms_knn = knn.fit(song_matrix_sparse)"
   ]
  },
  {
   "cell_type": "code",
   "execution_count": null,
   "metadata": {
    "collapsed": true
   },
   "outputs": [],
   "source": [
    "print(song_matrix.loc(\"Nice Dreams - Radiohead\"))"
   ]
  },
  {
   "cell_type": "code",
   "execution_count": null,
   "metadata": {
    "collapsed": true
   },
   "outputs": [],
   "source": [
    "query = np.random.choice(song_matrix.shape[0])\n",
    "distances, indices = song_knn.kneighbors(song_matrix.iloc[query, :].values.reshape(1, -1), n_neighbors = 6)\n",
    "\n",
    "for i in range(0, len(distances.flatten())):\n",
    "    if i == 0:\n",
    "        print('Recommendations for {0}:\\n'.format(song_matrix.index[query]))\n",
    "    else:\n",
    "        print('{0}: {1}, with distance of {2}:'.format(i, song_matrix.index[indices.flatten()[i]], distances.flatten()[i]))"
   ]
  },
  {
   "cell_type": "code",
   "execution_count": 9,
   "metadata": {},
   "outputs": [
    {
     "name": "stdout",
     "output_type": "stream",
     "text": [
      "Through The Wire - Kanye West\n",
      "Recommendations for Through The Wire - Kanye West:\n",
      "\n",
      "1: The Glory - Kanye West, with distance of 0.754036817514376:\n",
      "2: Soon As I Get Home(Album Version) - Faith Evans, with distance of 0.786573180534062:\n",
      "3: All Falls Down - Kanye West / Syleena Johnson, with distance of 0.7911657225974367:\n",
      "4: Hey Mama - Kanye West, with distance of 0.8073298536450759:\n",
      "5: It\\'s Just A Thought - Creedence Clearwater Revival, with distance of 0.8229429490776607:\n"
     ]
    }
   ],
   "source": [
    "#print(\"Got a specific song in mind? y/n : \")\n",
    "#if input() == \"y\":\n",
    "#    print(\"Enter <song> - <artist> : \")\n",
    "query = song_matrix.index.get_loc(input())\n",
    "distances, indices = song_knn.kneighbors(song_matrix.iloc[query, :].values.reshape(1, -1), n_neighbors = 6)\n",
    "\n",
    "for i in range(0, len(distances.flatten())):\n",
    "    if i == 0:\n",
    "        print('Recommendations for {0}:\\n'.format(song_matrix.index[query]))\n",
    "    else:\n",
    "        print('{0}: {1}, with distance of {2}:'.format(i, song_matrix.index[indices.flatten()[i]], distances.flatten()[i]))\n",
    "#else:\n",
    "#    print(\"Your loss\\n\")"
   ]
  },
  {
   "cell_type": "markdown",
   "metadata": {},
   "source": [
    "## Artist Recommender"
   ]
  },
  {
   "cell_type": "code",
   "execution_count": null,
   "metadata": {
    "collapsed": true
   },
   "outputs": [],
   "source": [
    "artist_matrix = pd.pivot_table(data, index = 'artist', columns = 'user_id', values = 'listen_count', fill_value = 0)\n",
    "print(\"Total plays of Kanye West's songs:\", artist_matrix.loc[\"Kanye West\"].sum())"
   ]
  },
  {
   "cell_type": "code",
   "execution_count": null,
   "metadata": {
    "collapsed": true
   },
   "outputs": [],
   "source": [
    "total_artist_matrix = pd.DataFrame(data={'artist': artist_matrix.index, 'total_plays': artist_matrix.sum(axis = 1).values})\n",
    "popular_artists = total_artist_matrix.query('total_plays >= 1000').sort_values(by=['total_plays'], ascending = False)"
   ]
  },
  {
   "cell_type": "code",
   "execution_count": null,
   "metadata": {
    "collapsed": true
   },
   "outputs": [],
   "source": [
    "artist_knn = NearestNeighbors(metric='cosine', algorithm='brute')\n",
    "artist_knn.fit(artist_matrix)"
   ]
  },
  {
   "cell_type": "code",
   "execution_count": null,
   "metadata": {
    "collapsed": true
   },
   "outputs": [],
   "source": [
    "query = np.random.choice(artist_matrix.shape[0])\n",
    "distances, indices = artist_knn.kneighbors(artist_matrix.iloc[query, :].values.reshape(1, -1), n_neighbors = 6)\n",
    "\n",
    "for i in range(0, len(distances.flatten())):\n",
    "    if i == 0:\n",
    "        print('Recommendations for {0}:\\n'.format(artist_matrix.index[query]))\n",
    "    else:\n",
    "        print('{0}: {1}, with distance of {2}:'.format(i, artist_matrix.index[indices.flatten()[i]], distances.flatten()[i]))"
   ]
  },
  {
   "cell_type": "code",
   "execution_count": null,
   "metadata": {
    "collapsed": true
   },
   "outputs": [],
   "source": [
    "print(\"Got a specific artist in mind? y/n : \")\n",
    "if input() == \"y\":\n",
    "    print(\"Enter <artist> : \")\n",
    "    query = artist_matrix.index.get_loc(input())\n",
    "    distances, indices = artist_knn.kneighbors(artist_matrix.iloc[query, :].values.reshape(1, -1), n_neighbors = 6)\n",
    "\n",
    "    for i in range(0, len(distances.flatten())):\n",
    "        if i == 0:\n",
    "            print('Recommendations for {0}:\\n'.format(artist_matrix.index[query]))\n",
    "        else:\n",
    "            print('{0}: {1}, with distance of {2}:'.format(i, artist_matrix.index[indices.flatten()[i]], distances.flatten()[i]))\n",
    "else:\n",
    "    print(\"Your loss\\n\")"
   ]
  },
  {
   "cell_type": "code",
   "execution_count": null,
   "metadata": {
    "collapsed": true
   },
   "outputs": [],
   "source": [
    "#train, test = train_test_split(data, test_size=0.1)"
   ]
  }
 ],
 "metadata": {
  "kernelspec": {
   "display_name": "Python 3",
   "language": "python",
   "name": "python3"
  },
  "language_info": {
   "codemirror_mode": {
    "name": "ipython",
    "version": 3
   },
   "file_extension": ".py",
   "mimetype": "text/x-python",
   "name": "python",
   "nbconvert_exporter": "python",
   "pygments_lexer": "ipython3",
   "version": "3.6.3"
  }
 },
 "nbformat": 4,
 "nbformat_minor": 2
}
