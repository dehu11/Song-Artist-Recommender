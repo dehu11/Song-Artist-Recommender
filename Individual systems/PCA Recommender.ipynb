{
 "cells": [
  {
   "cell_type": "code",
   "execution_count": 2,
   "metadata": {
    "collapsed": true
   },
   "outputs": [],
   "source": [
    "import numpy as np\n",
    "import pandas as pd\n",
    "from sklearn.cluster import KMeans\n",
    "from sklearn.neighbors import NearestNeighbors\n",
    "from sklearn.preprocessing import StandardScaler\n",
    "from sklearn.decomposition import PCA"
   ]
  },
  {
   "cell_type": "code",
   "execution_count": 5,
   "metadata": {},
   "outputs": [],
   "source": [
    "data = pd.DataFrame.from_csv('song_data.csv', sep=',', index_col=None)\n",
    "\n",
    "audio_features = pd.DataFrame.from_csv('spotify.csv', sep=',', index_col=None)\n",
    "audio_features = audio_features.drop(['id', 'analysis_url', 'duration_ms', 'track_href', 'type', 'uri', 'valence'], axis = 1)\n",
    "audio_features = audio_features.dropna()\n",
    "songs = pd.DataFrame(audio_features.loc[:,['song']].values, columns=['song']).set_index('song')\n",
    "\n",
    "#audio_features = StandardScaler().fit_transform(audio_features.set_index('song'))\n",
    "\n",
    "full = data.merge(audio_features, on='song')\n",
    "full = full.dropna()#[pd.notnull(full['acousticness'])]\n",
    "#song_matrix = pd.pivot_table(data, index = 'song', columns = 'user_id', values = 'listen_count', fill_value = 0)"
   ]
  },
  {
   "cell_type": "code",
   "execution_count": 11,
   "metadata": {},
   "outputs": [
    {
     "data": {
      "text/plain": [
       "(3375,)"
      ]
     },
     "execution_count": 11,
     "metadata": {},
     "output_type": "execute_result"
    }
   ],
   "source": [
    "data['artist'].unique().shape"
   ]
  },
  {
   "cell_type": "code",
   "execution_count": 3,
   "metadata": {
    "collapsed": true
   },
   "outputs": [],
   "source": [
    "pca = PCA(n_components=7)\n",
    "principalComponents = pca.fit_transform(audio_features)\n",
    "principalDf = pd.DataFrame(data = principalComponents\n",
    "    , columns = ['PC 1', 'PC 2', 'PC 3', 'PC 4', 'PC 5', 'PC 6', 'PC 7']).reset_index(drop=True)\n",
    "principalDf['song'] = songs.index\n",
    "PCA_audio_features = principalDf.set_index('song')"
   ]
  },
  {
   "cell_type": "code",
   "execution_count": 4,
   "metadata": {
    "collapsed": true
   },
   "outputs": [],
   "source": [
    "n_clusters = 5\n",
    "kmn = KMeans(n_clusters = n_clusters)\n",
    "audio_kmn = kmn.fit(PCA_audio_features)"
   ]
  },
  {
   "cell_type": "code",
   "execution_count": 5,
   "metadata": {
    "collapsed": true
   },
   "outputs": [],
   "source": [
    "clusters = []\n",
    "for i in range(n_clusters):\n",
    "    clusters.append(np.asarray([PCA_audio_features.index[j] for j in np.where(audio_kmn.labels_ == i)[0]]))"
   ]
  },
  {
   "cell_type": "code",
   "execution_count": 10,
   "metadata": {},
   "outputs": [
    {
     "name": "stdout",
     "output_type": "stream",
     "text": [
      "Through The Wire - Kanye West\n",
      "[3, 639]\n",
      "Recommendations for Through The Wire - Kanye West:\n",
      "\n",
      "1: The Glory - Kanye West, with distance of 0.754036817514376:\n",
      "2: All Falls Down - Kanye West / Syleena Johnson, with distance of 0.7911657225974366:\n",
      "3: The New Workout Plan - Kanye West, with distance of 0.8257151367361868:\n",
      "4: Family Business - Kanye West, with distance of 0.8681082343198461:\n",
      "5: Jesus Walks - Kanye West, with distance of 0.8917534299491273:\n"
     ]
    }
   ],
   "source": [
    "song = input()\n",
    "for i in range(n_clusters):\n",
    "    if song in clusters[i]:\n",
    "        index = [i, np.where(clusters[i]==song)[0][0]]\n",
    "        break\n",
    "\n",
    "print(index)\n",
    "\n",
    "selection = pd.DataFrame(index=clusters[index[0]], data={'in': 0})\n",
    "selection = data.join(selection, on='song').dropna()\n",
    "\n",
    "cluster_matrix = pd.pivot_table(selection, index = 'song', columns = 'user_id', values = 'listen_count', fill_value = 0)\n",
    "\n",
    "song_cluster_knn = NearestNeighbors(metric='cosine', algorithm='brute').fit(cluster_matrix)\n",
    "\n",
    "query = cluster_matrix.index.get_loc(song)\n",
    "distances, indices = song_cluster_knn.kneighbors(cluster_matrix.iloc[query, :].values.reshape(1, -1), n_neighbors = 6)\n",
    "\n",
    "for i in range(0, len(distances.flatten())):\n",
    "    if i == 0:\n",
    "        print('Recommendations for {0}:\\n'.format(cluster_matrix.index[query]))\n",
    "    else:\n",
    "        print('{0}: {1}, with distance of {2}:'.format(i, cluster_matrix.index[indices.flatten()[i]], distances.flatten()[i]))"
   ]
  },
  {
   "cell_type": "code",
   "execution_count": 8,
   "metadata": {},
   "outputs": [
    {
     "name": "stdout",
     "output_type": "stream",
     "text": [
      "[ 0.23134558  0.12357217  0.10847208  0.10023246  0.08932162  0.08160903\n",
      "  0.07734952]\n",
      "0.811902451883\n"
     ]
    }
   ],
   "source": [
    "print(pca.explained_variance_ratio_)\n",
    "print(sum(pca.explained_variance_ratio_))"
   ]
  },
  {
   "cell_type": "code",
   "execution_count": null,
   "metadata": {
    "collapsed": true
   },
   "outputs": [],
   "source": []
  }
 ],
 "metadata": {
  "kernelspec": {
   "display_name": "Python 3",
   "language": "python",
   "name": "python3"
  },
  "language_info": {
   "codemirror_mode": {
    "name": "ipython",
    "version": 3
   },
   "file_extension": ".py",
   "mimetype": "text/x-python",
   "name": "python",
   "nbconvert_exporter": "python",
   "pygments_lexer": "ipython3",
   "version": "3.6.3"
  }
 },
 "nbformat": 4,
 "nbformat_minor": 2
}
