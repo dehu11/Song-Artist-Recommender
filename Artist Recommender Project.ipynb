{
 "cells": [
  {
   "cell_type": "markdown",
   "metadata": {},
   "source": [
    "# Artist Recommender\n",
    "## Derek Hu | COEN 140 | March 23, 2018"
   ]
  },
  {
   "cell_type": "code",
   "execution_count": 1,
   "metadata": {
    "collapsed": true
   },
   "outputs": [],
   "source": [
    "import numpy as np\n",
    "import pandas as pd\n",
    "import matplotlib.pyplot as plt\n",
    "from sklearn.cluster import KMeans\n",
    "from scipy.spatial.distance import cdist\n",
    "from sklearn.neighbors import NearestNeighbors\n",
    "from sklearn.preprocessing import StandardScaler\n",
    "from sklearn.decomposition import PCA"
   ]
  },
  {
   "cell_type": "markdown",
   "metadata": {},
   "source": [
    "## Retrieve & Format Data"
   ]
  },
  {
   "cell_type": "code",
   "execution_count": 2,
   "metadata": {
    "collapsed": true
   },
   "outputs": [],
   "source": [
    "data = pd.DataFrame.from_csv('song_data.csv', sep=',', index_col=None)\n",
    "\n",
    "audio_features = pd.DataFrame.from_csv('spotify.csv', sep=',', index_col=None)\n",
    "audio_features = audio_features.drop(['id', 'analysis_url', 'duration_ms', 'track_href', 'type', 'uri', 'mode'], axis = 1)\n",
    "audio_features = audio_features.dropna()\n",
    "\n",
    "songs = pd.DataFrame(audio_features.loc[:,['song']].values, columns=['song']).set_index('song')\n",
    "\n",
    "audio_features = audio_features.set_index('song')"
   ]
  },
  {
   "cell_type": "markdown",
   "metadata": {},
   "source": [
    "### Get list of songs grouped by artist"
   ]
  },
  {
   "cell_type": "code",
   "execution_count": 3,
   "metadata": {},
   "outputs": [],
   "source": [
    "songs_per_artist = []\n",
    "for i in data['artist'].unique():\n",
    "    songs_per_artist.append(data.loc[data['artist'] == i]['song'].unique())"
   ]
  },
  {
   "cell_type": "markdown",
   "metadata": {},
   "source": [
    "### Compute averages of audio features from all of an artist's songs"
   ]
  },
  {
   "cell_type": "code",
   "execution_count": 4,
   "metadata": {},
   "outputs": [],
   "source": [
    "avg_audio_features = pd.DataFrame(columns=['acousticness', 'danceability', 'energy', 'instrumentalness'\n",
    "        , 'key', 'liveness', 'loudness', 'speechiness', 'tempo', 'time_signature', 'valence'])\n",
    "\n",
    "for i in range(len(songs_per_artist)):\n",
    "    Sum = np.zeros((11,1))\n",
    "    for j in songs_per_artist[i]:\n",
    "        if j in audio_features.index:\n",
    "            for k in range(len(audio_features.loc[j])):\n",
    "                Sum[k] += audio_features.loc[j][k]\n",
    "    Sum = (Sum / len(songs_per_artist[i]))\n",
    "    avg_audio_features = avg_audio_features.append(pd.DataFrame(data=Sum.T, columns=['acousticness', 'danceability', 'energy', 'instrumentalness'\n",
    "        , 'key', 'liveness', 'loudness', 'speechiness', 'tempo', 'time_signature', 'valence']))\n",
    "    \n",
    "avg_audio_features['artist'] = data['artist'].unique()\n",
    "avg_audio_features = avg_audio_features.set_index('artist')\n",
    "avg_audio_features = avg_audio_features[(avg_audio_features.T != 0).any()]\n",
    "\n",
    "std_audio_features = StandardScaler().fit_transform(avg_audio_features)"
   ]
  },
  {
   "cell_type": "code",
   "execution_count": 5,
   "metadata": {},
   "outputs": [
    {
     "data": {
      "text/plain": [
       "NearestNeighbors(algorithm='brute', leaf_size=30, metric='cosine',\n",
       "         metric_params=None, n_jobs=1, n_neighbors=5, p=2, radius=1.0)"
      ]
     },
     "execution_count": 5,
     "metadata": {},
     "output_type": "execute_result"
    }
   ],
   "source": [
    "artist_matrix = pd.pivot_table(data, index = 'artist', columns = 'user_id', values = 'listen_count', fill_value = 0)\n",
    "\n",
    "artist_knn = NearestNeighbors(metric='cosine', algorithm='brute')\n",
    "artist_knn.fit(artist_matrix)"
   ]
  },
  {
   "cell_type": "markdown",
   "metadata": {},
   "source": [
    "## Set up K-Means"
   ]
  },
  {
   "cell_type": "markdown",
   "metadata": {},
   "source": [
    "### Check Elbow Point for optimal K"
   ]
  },
  {
   "cell_type": "code",
   "execution_count": 15,
   "metadata": {},
   "outputs": [
    {
     "data": {
      "image/png": "[encoded data removed]",
      "text/plain": [
       "<matplotlib.figure.Figure at 0x1c2b5d09e48>"
      ]
     },
     "metadata": {},
     "output_type": "display_data"
    }
   ],
   "source": [
    "kmn_distortion = []\n",
    "K = range(1,10)\n",
    "for k in K:\n",
    "    kmn_model = KMeans(n_clusters = k).fit(audio_features)\n",
    "    kmn_distortion.append(sum(np.min(cdist(audio_features, kmn_model.cluster_centers_, 'euclidean'), axis=1)) / audio_features.shape[0])\n",
    "\n",
    "plt.plot(K, kmn_distortion, 'bx-')\n",
    "plt.xlabel('K')\n",
    "plt.ylabel('Distortion')\n",
    "plt.title('Elbow Method for optimal K (Artist K-Means)')\n",
    "plt.show()"
   ]
  },
  {
   "cell_type": "code",
   "execution_count": 7,
   "metadata": {
    "collapsed": true
   },
   "outputs": [],
   "source": [
    "kmn_n_clusters = 3\n",
    "kmn = KMeans(n_clusters = kmn_n_clusters).fit(avg_audio_features)\n",
    "\n",
    "kmn_clusters = []\n",
    "for i in range(kmn_n_clusters):\n",
    "    kmn_clusters.append(np.asarray([avg_audio_features.index[j] for j in np.where(kmn.labels_ == i)[0]]))"
   ]
  },
  {
   "cell_type": "markdown",
   "metadata": {},
   "source": [
    "## Set up PCA + K-Means"
   ]
  },
  {
   "cell_type": "markdown",
   "metadata": {},
   "source": [
    "### Check Elbow Point for optimal K"
   ]
  },
  {
   "cell_type": "code",
   "execution_count": 14,
   "metadata": {},
   "outputs": [
    {
     "data": {
      "image/png": "[encoded data removed]",
      "text/plain": [
       "<matplotlib.figure.Figure at 0x1c2aae025c0>"
      ]
     },
     "metadata": {},
     "output_type": "display_data"
    }
   ],
   "source": [
    "PCA_distortions = []\n",
    "K = range(1,10)\n",
    "for k in K:\n",
    "    PCA_model = KMeans(n_clusters = k).fit(std_audio_features)\n",
    "    PCA_distortions.append(sum(np.min(cdist(std_audio_features, PCA_model.cluster_centers_, 'euclidean'), axis=1)) / std_audio_features.shape[0])\n",
    "\n",
    "plt.plot(K, PCA_distortions, 'bx-')\n",
    "plt.xlabel('K')\n",
    "plt.ylabel('Distortion')\n",
    "plt.title('Elbow Method for optimal K (Artist Std K-Means)')\n",
    "plt.show()"
   ]
  },
  {
   "cell_type": "code",
   "execution_count": 9,
   "metadata": {},
   "outputs": [],
   "source": [
    "pca = PCA(n_components=7)\n",
    "PC = pca.fit_transform(std_audio_features)\n",
    "\n",
    "PC = pd.DataFrame(data = PC, columns = ['PC 1', 'PC 2', 'PC 3', 'PC 4', 'PC 5', 'PC 6', 'PC 7']).reset_index(drop=True)\n",
    "PC['artist'] = avg_audio_features.index\n",
    "PCA_audio_features = PC.set_index('artist')\n",
    "\n",
    "PCA_n_clusters = 6\n",
    "PCA_kmn = KMeans(n_clusters = PCA_n_clusters)\n",
    "PCA_kmn.fit(PCA_audio_features)\n",
    "\n",
    "PCA_clusters = []\n",
    "for i in range(PCA_n_clusters):\n",
    "    PCA_clusters.append(np.asarray([PCA_audio_features.index[j] for j in np.where(PCA_kmn.labels_ == i)[0]]))"
   ]
  },
  {
   "cell_type": "markdown",
   "metadata": {},
   "source": [
    "### Check principal component variances & total variance"
   ]
  },
  {
   "cell_type": "code",
   "execution_count": 10,
   "metadata": {},
   "outputs": [
    {
     "name": "stdout",
     "output_type": "stream",
     "text": [
      "Principal compoenent variances: [ 0.2857195   0.18363205  0.10728373  0.09657731  0.07914871  0.0769754\n",
      "  0.06271713]\n",
      "Total prinicpal component variance: 0.892053835515\n"
     ]
    }
   ],
   "source": [
    "print(\"Principal compoenent variances:\", pca.explained_variance_ratio_)\n",
    "print(\"Total prinicpal component variance:\", sum(pca.explained_variance_ratio_))"
   ]
  },
  {
   "cell_type": "markdown",
   "metadata": {},
   "source": [
    "## Recommenders"
   ]
  },
  {
   "cell_type": "markdown",
   "metadata": {},
   "source": [
    "### Get base song"
   ]
  },
  {
   "cell_type": "code",
   "execution_count": 19,
   "metadata": {},
   "outputs": [
    {
     "name": "stdout",
     "output_type": "stream",
     "text": [
      "Kanye West\n",
      "K-Means - Artist found in cluster [2, 2]\n",
      "PCA + K-Means - Artist found in cluster [5, 0]\n"
     ]
    }
   ],
   "source": [
    "artist = input()\n",
    "\n",
    "for i in range(kmn_n_clusters):\n",
    "    if artist in kmn_clusters[i]:\n",
    "        kmn_index = [i, np.where(kmn_clusters[i]==artist)[0][0]]\n",
    "        break\n",
    "\n",
    "print(\"K-Means - Artist found in cluster\", kmn_index)\n",
    "\n",
    "for i in range(PCA_n_clusters):\n",
    "    if artist in PCA_clusters[i]:\n",
    "        PCA_index = [i, np.where(PCA_clusters[i]==artist)[0][0]]\n",
    "        break\n",
    "\n",
    "print(\"PCA + K-Means - Artist found in cluster\", PCA_index)"
   ]
  },
  {
   "cell_type": "markdown",
   "metadata": {},
   "source": [
    "### Get matrices, distances, & indices"
   ]
  },
  {
   "cell_type": "code",
   "execution_count": 20,
   "metadata": {},
   "outputs": [],
   "source": [
    "# K-NN\n",
    "query = artist_matrix.index.get_loc(artist)\n",
    "distances, indices = artist_knn.kneighbors(artist_matrix.iloc[query, :].values.reshape(1, -1), n_neighbors = 6)\n",
    "\n",
    "# K-Means + K-NN\n",
    "kmn_selection = pd.DataFrame(index=kmn_clusters[kmn_index[0]], data={'in': 0})\n",
    "kmn_selection = data.join(kmn_selection, on='artist').dropna()\n",
    "\n",
    "kmn_cluster_matrix = pd.pivot_table(kmn_selection, index = 'artist', columns = 'user_id', values = 'listen_count', fill_value = 0)\n",
    "kmn_cluster_knn = NearestNeighbors(metric='cosine', algorithm='brute').fit(kmn_cluster_matrix)\n",
    "\n",
    "kmn_query = kmn_cluster_matrix.index.get_loc(artist)\n",
    "kmn_distances, kmn_indices = kmn_cluster_knn.kneighbors(kmn_cluster_matrix.iloc[kmn_query, :].values.reshape(1, -1), n_neighbors = 6)\n",
    "\n",
    "# PCA + K-Means + K-NN\n",
    "PCA_selection = pd.DataFrame(index=PCA_clusters[PCA_index[0]], data={'in': 0})\n",
    "PCA_selection = data.join(PCA_selection, on='artist').dropna()\n",
    "\n",
    "PCA_cluster_matrix = pd.pivot_table(PCA_selection, index = 'artist', columns = 'user_id', values = 'listen_count', fill_value = 0)\n",
    "\n",
    "PCA_cluster_knn = NearestNeighbors(metric='cosine', algorithm='brute').fit(PCA_cluster_matrix)\n",
    "\n",
    "PCA_query = PCA_cluster_matrix.index.get_loc(artist)\n",
    "PCA_distances, PCA_indices = PCA_cluster_knn.kneighbors(PCA_cluster_matrix.iloc[PCA_query, :].values.reshape(1, -1), n_neighbors = 6)"
   ]
  },
  {
   "cell_type": "markdown",
   "metadata": {},
   "source": [
    "### Give recommendations"
   ]
  },
  {
   "cell_type": "code",
   "execution_count": 21,
   "metadata": {},
   "outputs": [
    {
     "name": "stdout",
     "output_type": "stream",
     "text": [
      "K-NN Recommendations for Kanye West:\n",
      "\n",
      "1: Girl Talk, with distance of 0.8404610161158217:\n",
      "2: Bayside, with distance of 0.8423386550005177:\n",
      "3: Fort Minor (Featuring Styles Of Beyond), with distance of 0.8426497300628845:\n",
      "4: Cidinho, with distance of 0.8952500144618121:\n",
      "5: Metallica, with distance of 0.9102647000976343:\n",
      "\n",
      "\n",
      "K-NN with K-Means Recommendations for Kanye West:\n",
      "\n",
      "1: Girl Talk, with distance of 0.8404610161158217:\n",
      "2: Metallica, with distance of 0.9102647000976343:\n",
      "3: Sidney Samson, with distance of 0.9198834798043698:\n",
      "4: David Cook, with distance of 0.9352421817178592:\n",
      "5: Kanye West / Syleena Johnson, with distance of 0.9411312182299502:\n",
      "\n",
      "\n",
      "K-NN with K-Means & PCA Recommendations for Kanye West:\n",
      "\n",
      "1: Kanye West / Syleena Johnson, with distance of 0.9411312182299502:\n",
      "2: Kanye West / GLC / Consequence, with distance of 0.9420467829339941:\n",
      "3: Eminem, with distance of 0.9435826501731439:\n",
      "4: Portugal. The Man, with distance of 0.9445781367586987:\n",
      "5: Kanye West / T-Pain, with distance of 0.9598877051379998:\n"
     ]
    }
   ],
   "source": [
    "for i in range(0, len(distances.flatten())):\n",
    "    if i == 0:\n",
    "        print('K-NN Recommendations for {0}:\\n'.format(artist_matrix.index[query]))\n",
    "    else:\n",
    "        print('{0}: {1}, with distance of {2}:'.format(i, artist_matrix.index[indices.flatten()[i]], distances.flatten()[i]))\n",
    "\n",
    "print('\\n')\n",
    "\n",
    "for i in range(0, len(kmn_distances.flatten())):\n",
    "    if i == 0:\n",
    "        print('K-NN with K-Means Recommendations for {0}:\\n'.format(kmn_cluster_matrix.index[kmn_query]))\n",
    "    else:\n",
    "        print('{0}: {1}, with distance of {2}:'.format(i, kmn_cluster_matrix.index[kmn_indices.flatten()[i]], kmn_distances.flatten()[i]))\n",
    "\n",
    "print('\\n')\n",
    "\n",
    "for i in range(0, len(PCA_distances.flatten())):\n",
    "    if i == 0:\n",
    "        print('K-NN with K-Means & PCA Recommendations for {0}:\\n'.format(PCA_cluster_matrix.index[PCA_query]))\n",
    "    else:\n",
    "        print('{0}: {1}, with distance of {2}:'.format(i, PCA_cluster_matrix.index[PCA_indices.flatten()[i]], PCA_distances.flatten()[i]))"
   ]
  }
 ],
 "metadata": {
  "kernelspec": {
   "display_name": "Python 3",
   "language": "python",
   "name": "python3"
  },
  "language_info": {
   "codemirror_mode": {
    "name": "ipython",
    "version": 3
   },
   "file_extension": ".py",
   "mimetype": "text/x-python",
   "name": "python",
   "nbconvert_exporter": "python",
   "pygments_lexer": "ipython3",
   "version": "3.6.3"
  }
 },
 "nbformat": 4,
 "nbformat_minor": 2
}
