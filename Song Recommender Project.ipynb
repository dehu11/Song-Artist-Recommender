{
 "cells": [
  {
   "cell_type": "markdown",
   "metadata": {},
   "source": [
    "# Song Recommender\n",
    "## Derek Hu & Maile Naito | COEN 140 | March 23, 2018"
   ]
  },
  {
   "cell_type": "code",
   "execution_count": 1,
   "metadata": {
    "collapsed": true
   },
   "outputs": [],
   "source": [
    "import numpy as np\n",
    "import pandas as pd\n",
    "import matplotlib.pyplot as plt\n",
    "from sklearn.cluster import KMeans\n",
    "from scipy.spatial.distance import cdist\n",
    "from sklearn.neighbors import NearestNeighbors\n",
    "from sklearn.preprocessing import StandardScaler\n",
    "from sklearn.decomposition import PCA"
   ]
  },
  {
   "cell_type": "markdown",
   "metadata": {},
   "source": [
    "## Retrieve & Format Data"
   ]
  },
  {
   "cell_type": "code",
   "execution_count": 2,
   "metadata": {},
   "outputs": [],
   "source": [
    "data = pd.DataFrame.from_csv('song_data.csv', sep=',', index_col=None)\n",
    "\n",
    "audio_features = pd.DataFrame.from_csv('spotify.csv', sep=',', index_col=None)\n",
    "audio_features = audio_features.drop(['id', 'analysis_url', 'duration_ms', 'track_href', 'type', 'uri', 'mode'], axis = 1)\n",
    "audio_features = audio_features.dropna()\n",
    "\n",
    "songs = pd.DataFrame(audio_features.loc[:,['song']].values, columns=['song']).set_index('song')\n",
    "\n",
    "audio_features = audio_features.set_index('song')\n",
    "std_audio_features = StandardScaler().fit_transform(audio_features)"
   ]
  },
  {
   "cell_type": "markdown",
   "metadata": {},
   "source": [
    "## Set up K-NN"
   ]
  },
  {
   "cell_type": "code",
   "execution_count": 3,
   "metadata": {},
   "outputs": [
    {
     "data": {
      "text/plain": [
       "NearestNeighbors(algorithm='brute', leaf_size=30, metric='cosine',\n",
       "         metric_params=None, n_jobs=1, n_neighbors=5, p=2, radius=1.0)"
      ]
     },
     "execution_count": 3,
     "metadata": {},
     "output_type": "execute_result"
    }
   ],
   "source": [
    "song_matrix = pd.pivot_table(data, index = 'song', columns = 'user_id', values = 'listen_count', fill_value = 0)\n",
    "\n",
    "song_knn = NearestNeighbors(metric='cosine', algorithm='brute')\n",
    "song_knn.fit(song_matrix)"
   ]
  },
  {
   "cell_type": "markdown",
   "metadata": {},
   "source": [
    "## Set up K-Means"
   ]
  },
  {
   "cell_type": "markdown",
   "metadata": {},
   "source": [
    "### Elbow point check"
   ]
  },
  {
   "cell_type": "code",
   "execution_count": 15,
   "metadata": {},
   "outputs": [
    {
     "data": {
      "image/png": "[encoded data removed]",
      "text/plain": [
       "<matplotlib.figure.Figure at 0x20d0e555278>"
      ]
     },
     "metadata": {},
     "output_type": "display_data"
    }
   ],
   "source": [
    "kmn_distortion = []\n",
    "K = range(1,10)\n",
    "for k in K:\n",
    "    kmn_model = KMeans(n_clusters = k).fit(audio_features)\n",
    "    kmn_distortion.append(sum(np.min(cdist(audio_features, kmn_model.cluster_centers_, 'euclidean'), axis=1)) / audio_features.shape[0])\n",
    "\n",
    "plt.plot(K, kmn_distortion, 'bx-')\n",
    "plt.xlabel('K')\n",
    "plt.ylabel('Distortion')\n",
    "plt.title('Elbow Method for optimal K (Song K-Means)')\n",
    "plt.show()"
   ]
  },
  {
   "cell_type": "code",
   "execution_count": 5,
   "metadata": {
    "collapsed": true
   },
   "outputs": [],
   "source": [
    "kmn_n_clusters = 3\n",
    "kmn = KMeans(n_clusters = kmn_n_clusters).fit(audio_features)\n",
    "\n",
    "kmn_clusters = []\n",
    "for i in range(kmn_n_clusters):\n",
    "    kmn_clusters.append(np.asarray([audio_features.index[j] for j in np.where(kmn.labels_ == i)[0]]))"
   ]
  },
  {
   "cell_type": "markdown",
   "metadata": {},
   "source": [
    "## Set up PCA + K-Means"
   ]
  },
  {
   "cell_type": "markdown",
   "metadata": {},
   "source": [
    "### Elbow point check"
   ]
  },
  {
   "cell_type": "code",
   "execution_count": 14,
   "metadata": {},
   "outputs": [
    {
     "data": {
      "image/png": "[encoded data removed]",
      "text/plain": [
       "<matplotlib.figure.Figure at 0x20d0e92d7f0>"
      ]
     },
     "metadata": {},
     "output_type": "display_data"
    }
   ],
   "source": [
    "PCA_distortions = []\n",
    "K = range(1,10)\n",
    "for k in K:\n",
    "    PCA_model = KMeans(n_clusters = k).fit(std_audio_features)\n",
    "    PCA_distortions.append(sum(np.min(cdist(std_audio_features, PCA_model.cluster_centers_, 'euclidean'), axis=1)) / std_audio_features.shape[0])\n",
    "\n",
    "plt.plot(K, PCA_distortions, 'bx-')\n",
    "plt.xlabel('K')\n",
    "plt.ylabel('Distortion')\n",
    "plt.title('Elbow Method for optimal K (Song Std K-Means)')\n",
    "plt.show()"
   ]
  },
  {
   "cell_type": "code",
   "execution_count": 7,
   "metadata": {
    "collapsed": true
   },
   "outputs": [],
   "source": [
    "pca = PCA(n_components=7)\n",
    "PC = pca.fit_transform(std_audio_features)\n",
    "\n",
    "PC = pd.DataFrame(data = PC, columns = ['PC 1', 'PC 2', 'PC 3', 'PC 4', 'PC 5', 'PC 6', 'PC 7']).reset_index(drop=True)\n",
    "PC['song'] = songs.index\n",
    "PCA_audio_features = PC.set_index('song')\n",
    "\n",
    "PCA_n_clusters = 6\n",
    "PCA_kmn = KMeans(n_clusters = PCA_n_clusters)\n",
    "PCA_kmn.fit(PCA_audio_features)\n",
    "\n",
    "PCA_clusters = []\n",
    "for i in range(PCA_n_clusters):\n",
    "    PCA_clusters.append(np.asarray([PCA_audio_features.index[j] for j in np.where(PCA_kmn.labels_ == i)[0]]))"
   ]
  },
  {
   "cell_type": "markdown",
   "metadata": {},
   "source": [
    "### Check principal component variances & total variance"
   ]
  },
  {
   "cell_type": "code",
   "execution_count": 18,
   "metadata": {},
   "outputs": [
    {
     "name": "stdout",
     "output_type": "stream",
     "text": [
      "Principal compoenent variances:\n",
      " [ 0.24696592  0.13961263  0.10075713  0.09549748  0.08917661  0.08367134\n",
      "  0.07762363]\n",
      "Total prinicpal component variance: 0.833304748581\n"
     ]
    }
   ],
   "source": [
    "print(\"Principal compoenent variances:\\n\", pca.explained_variance_ratio_)\n",
    "print(\"Total prinicpal component variance:\", sum(pca.explained_variance_ratio_))"
   ]
  },
  {
   "cell_type": "markdown",
   "metadata": {},
   "source": [
    "## Recommenders"
   ]
  },
  {
   "cell_type": "markdown",
   "metadata": {},
   "source": [
    "### Get base song"
   ]
  },
  {
   "cell_type": "code",
   "execution_count": 10,
   "metadata": {},
   "outputs": [
    {
     "name": "stdout",
     "output_type": "stream",
     "text": [
      "Through The Wire - Kanye West\n",
      "K-Means - Song found in cluster [2, 2349]\n",
      "PCA + K-Means - Song found in cluster [5, 558]\n"
     ]
    }
   ],
   "source": [
    "song = input()\n",
    "\n",
    "for i in range(kmn_n_clusters):\n",
    "    if song in kmn_clusters[i]:\n",
    "        kmn_index = [i, np.where(kmn_clusters[i]==song)[0][0]]\n",
    "        break\n",
    "\n",
    "print(\"K-Means - Song found in cluster\", kmn_index)\n",
    "\n",
    "for i in range(PCA_n_clusters):\n",
    "    if song in PCA_clusters[i]:\n",
    "        PCA_index = [i, np.where(PCA_clusters[i]==song)[0][0]]\n",
    "        break\n",
    "\n",
    "print(\"PCA + K-Means - Song found in cluster\", PCA_index)"
   ]
  },
  {
   "cell_type": "markdown",
   "metadata": {},
   "source": [
    "### Get matrices, distances, & indices"
   ]
  },
  {
   "cell_type": "code",
   "execution_count": 11,
   "metadata": {},
   "outputs": [],
   "source": [
    "# K-NN\n",
    "query = song_matrix.index.get_loc(song)\n",
    "distances, indices = song_knn.kneighbors(song_matrix.iloc[query, :].values.reshape(1, -1), n_neighbors = 6)\n",
    "\n",
    "# K-Means + K-NN\n",
    "kmn_selection = pd.DataFrame(index=kmn_clusters[kmn_index[0]], data={'in': 0})\n",
    "kmn_selection = data.join(kmn_selection, on='song').dropna()\n",
    "\n",
    "kmn_cluster_matrix = pd.pivot_table(kmn_selection, index = 'song', columns = 'user_id', values = 'listen_count', fill_value = 0)\n",
    "kmn_cluster_knn = NearestNeighbors(metric='cosine', algorithm='brute').fit(kmn_cluster_matrix)\n",
    "\n",
    "kmn_query = kmn_cluster_matrix.index.get_loc(song)\n",
    "kmn_distances, kmn_indices = kmn_cluster_knn.kneighbors(kmn_cluster_matrix.iloc[kmn_query, :].values.reshape(1, -1), n_neighbors = 6)\n",
    "\n",
    "# PCA + K-Means + K-NN\n",
    "PCA_selection = pd.DataFrame(index=PCA_clusters[PCA_index[0]], data={'in': 0})\n",
    "PCA_selection = data.join(PCA_selection, on='song').dropna()\n",
    "\n",
    "PCA_cluster_matrix = pd.pivot_table(PCA_selection, index = 'song', columns = 'user_id', values = 'listen_count', fill_value = 0)\n",
    "\n",
    "PCA_cluster_knn = NearestNeighbors(metric='cosine', algorithm='brute').fit(PCA_cluster_matrix)\n",
    "\n",
    "PCA_query = PCA_cluster_matrix.index.get_loc(song)\n",
    "PCA_distances, PCA_indices = PCA_cluster_knn.kneighbors(PCA_cluster_matrix.iloc[PCA_query, :].values.reshape(1, -1), n_neighbors = 6)"
   ]
  },
  {
   "cell_type": "markdown",
   "metadata": {},
   "source": [
    "### Give recommendations"
   ]
  },
  {
   "cell_type": "code",
   "execution_count": 12,
   "metadata": {},
   "outputs": [
    {
     "name": "stdout",
     "output_type": "stream",
     "text": [
      "K-NN Recommendations for Through The Wire - Kanye West:\n",
      "\n",
      "1: The Glory - Kanye West, with distance of 0.754036817514376:\n",
      "2: Soon As I Get Home(Album Version) - Faith Evans, with distance of 0.786573180534062:\n",
      "3: All Falls Down - Kanye West / Syleena Johnson, with distance of 0.7911657225974367:\n",
      "4: Hey Mama - Kanye West, with distance of 0.8073298536450759:\n",
      "5: It\\'s Just A Thought - Creedence Clearwater Revival, with distance of 0.8229429490776607:\n",
      "\n",
      "\n",
      "K-NN with K-Means Recommendations for Through The Wire - Kanye West:\n",
      "\n",
      "1: The Glory - Kanye West, with distance of 0.754036817514376:\n",
      "2: All Falls Down - Kanye West / Syleena Johnson, with distance of 0.7911657225974367:\n",
      "3: Hey Mama - Kanye West, with distance of 0.8073298536450759:\n",
      "4: Roses - Kanye West, with distance of 0.8308373545901873:\n",
      "5: Family Business - Kanye West, with distance of 0.8681082343198461:\n",
      "\n",
      "\n",
      "K-NN with K-Means & PCA Recommendations for Through The Wire - Kanye West:\n",
      "\n",
      "1: The Glory - Kanye West, with distance of 0.754036817514376:\n",
      "2: All Falls Down - Kanye West / Syleena Johnson, with distance of 0.7911657225974366:\n",
      "3: The New Workout Plan - Kanye West, with distance of 0.8257151367361868:\n",
      "4: Family Business - Kanye West, with distance of 0.8681082343198461:\n",
      "5: Jesus Walks - Kanye West, with distance of 0.8917534299491273:\n"
     ]
    }
   ],
   "source": [
    "for i in range(0, len(distances.flatten())):\n",
    "    if i == 0:\n",
    "        print('K-NN Recommendations for {0}:\\n'.format(song_matrix.index[query]))\n",
    "    else:\n",
    "        print('{0}: {1}, with distance of {2}:'.format(i, song_matrix.index[indices.flatten()[i]], distances.flatten()[i]))\n",
    "\n",
    "print('\\n')\n",
    "\n",
    "for i in range(0, len(kmn_distances.flatten())):\n",
    "    if i == 0:\n",
    "        print('K-NN with K-Means Recommendations for {0}:\\n'.format(kmn_cluster_matrix.index[kmn_query]))\n",
    "    else:\n",
    "        print('{0}: {1}, with distance of {2}:'.format(i, kmn_cluster_matrix.index[kmn_indices.flatten()[i]], kmn_distances.flatten()[i]))\n",
    "\n",
    "print('\\n')\n",
    "\n",
    "for i in range(0, len(PCA_distances.flatten())):\n",
    "    if i == 0:\n",
    "        print('K-NN with K-Means & PCA Recommendations for {0}:\\n'.format(PCA_cluster_matrix.index[PCA_query]))\n",
    "    else:\n",
    "        print('{0}: {1}, with distance of {2}:'.format(i, PCA_cluster_matrix.index[PCA_indices.flatten()[i]], PCA_distances.flatten()[i]))"
   ]
  },
  {
   "cell_type": "code",
   "execution_count": null,
   "metadata": {
    "collapsed": true
   },
   "outputs": [],
   "source": []
  }
 ],
 "metadata": {
  "kernelspec": {
   "display_name": "Python 3",
   "language": "python",
   "name": "python3"
  },
  "language_info": {
   "codemirror_mode": {
    "name": "ipython",
    "version": 3
   },
   "file_extension": ".py",
   "mimetype": "text/x-python",
   "name": "python",
   "nbconvert_exporter": "python",
   "pygments_lexer": "ipython3",
   "version": "3.6.3"
  }
 },
 "nbformat": 4,
 "nbformat_minor": 2
}
